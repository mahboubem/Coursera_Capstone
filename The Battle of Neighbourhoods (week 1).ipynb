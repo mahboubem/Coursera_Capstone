{
 "cells": [
  {
   "cell_type": "markdown",
   "metadata": {},
   "source": [
    "<b><font size=\"5\">Capstone Project - The Battle of the Neighborhoods</font><b>"
   ]
  },
  {
   "cell_type": "markdown",
   "metadata": {},
   "source": [
    "\n",
    "<b><font size=\"4\">Introduction: Business Problem </font><b>\n",
    " "
   ]
  },
  {
   "cell_type": "markdown",
   "metadata": {},
   "source": [
    "Background My brother is going to open an restaurant in Montreal. So in this report I am trying to help him to target optimal places in Montreal for openning a restaurant.\n",
    "Prior launching any restaurant, it’s important to know if the business is a good opportunity. In order to do so, this report will try to gather data about other restaurant localization, competitors and accessibility by maximum number of people."
   ]
  },
  {
   "cell_type": "markdown",
   "metadata": {},
   "source": [
    "<b><font size=\"5\">Data</font><b>"
   ]
  },
  {
   "cell_type": "markdown",
   "metadata": {},
   "source": [
    "\n",
    "Following data sources will be needed to extract/generate the required information:\n",
    " \n",
    "Wikipedia: to find Montreal neighbourhood,borough,population\n",
    " https://en.wikipedia.org/wiki/Montreal\n",
    "\n",
    "Geopy: to getting the co-ordinated of different locations.\n",
    "\n",
    "Foursquare API: To get the restaurant vanues and their details in every neighbourhood.\n",
    "https://api.foursquare.com\n",
    "\n",
    "\n",
    "\n",
    "Combining all of these data sets will clearly demonstrate the following:\n",
    "\n",
    "which neighborhoods in Montreal have clusters of like Restaurants.\n",
    "how populated each neighborhoods is.\n",
    "which neighborhood should he target to open his new store.\n"
   ]
  },
  {
   "cell_type": "markdown",
   "metadata": {},
   "source": [
    "<b><font size=\"5\">Methodology</font><b>\n"
   ]
  },
  {
   "cell_type": "markdown",
   "metadata": {},
   "source": [
    "<ul>\n",
    "<li>Getting the co-ordinates of the city.</li>\n",
    "<li>Getting the list of neighborhoods and their co-ordinates.</li>\n",
    "<li>Exploring the most visited venues in the target localities.</li>\n",
    "<li>Clustering the localities.</li>\n",
    "<li>Analyzing the clusters.</li>\n",
    "<li>Collecting information about the type of restaurants already present in a locality.</li>\n",
    "<li>Creating a machine learning model based on data.</li>\n",
    "<li>Using the model to predict the best location for Resataurant.</li>\n",
    "</ul>"
   ]
  },
  {
   "cell_type": "markdown",
   "metadata": {},
   "source": [
    "\n",
    "<b>Target audience<b>\n",
    "    "
   ]
  },
  {
   "cell_type": "markdown",
   "metadata": {},
   "source": [
    "<ul>\n",
    "<li>These data could be used by a business entrepreneur that wants to open a new restaurant in Montreal. </li>\n",
    " \n",
    "<li>Business Analyst or Data Scientists, who wish to analyze the neighborhoods of Montreal using python, Jupiter notebook and some machine learning techniques.</li>\n",
    "</ul>"
   ]
  },
  {
   "cell_type": "code",
   "execution_count": null,
   "metadata": {},
   "outputs": [],
   "source": []
  },
  {
   "cell_type": "code",
   "execution_count": null,
   "metadata": {},
   "outputs": [],
   "source": []
  },
  {
   "cell_type": "code",
   "execution_count": null,
   "metadata": {},
   "outputs": [],
   "source": []
  }
 ],
 "metadata": {
  "kernelspec": {
   "display_name": "Python 3",
   "language": "python",
   "name": "python3"
  },
  "language_info": {
   "codemirror_mode": {
    "name": "ipython",
    "version": 3
   },
   "file_extension": ".py",
   "mimetype": "text/x-python",
   "name": "python",
   "nbconvert_exporter": "python",
   "pygments_lexer": "ipython3",
   "version": "3.7.4"
  }
 },
 "nbformat": 4,
 "nbformat_minor": 2
}
